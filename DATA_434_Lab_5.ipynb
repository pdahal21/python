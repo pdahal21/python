{
 "cells": [
  {
   "cell_type": "markdown",
   "metadata": {},
   "source": [
    "# DATA 434 Data Visualization Winter 2023\n",
    "## Lab 5: Controlling Plot Attributes\n",
    "#### Introduction:\n",
    "The purpose of this lab is to learn to control all the formatting an attributes of the charts you create. To do this without needing to make design choices of your own, you will recreate the five charts used as case studies in chapter 6 of *Stroytelling with data*. The data you will need as well as an example of each chart is available in an [Excel file](https://github.com/adamribaudo/storytelling-with-data-ggplot/raw/master/data/original%20data/CHAPTER_6_VISUALS.xlsx). Please refer to the text for complete details on each figure or checkout the Excel versions.\n",
    "\n",
    "Code is included to import the data into pandas dataframes for each figure. Feel free to delete if you want to import it in a different format.\n",
    "\n",
    "#### Instructions:\n",
    "1. Download the data into the same directory this notebook is located.\n",
    "2. Run the first code to the data frames.\n",
    "3. Recreate **three** figures from the text. Copy as many of the details as you can.\n",
    "4. This [github repo](https://github.com/empathy87/storytelling-with-data) as applicable examples based on matplotlib. Scroll down the base screen for helpful color info.\n",
    "4. Checkout this [example](https://github.com/empathy87/storytelling-with-data/blob/master/vertical-bar/figure-6-4.ipynb) from the same repo for a solution to Figure 4 to get started.\n",
    "\n",
    "8. **Number your figures to correspond to how they appear in the text.** \n",
    "9. Submit your complete notebook."
   ]
  },
  {
   "cell_type": "code",
   "execution_count": 1,
   "metadata": {},
   "outputs": [
    {
     "name": "stderr",
     "output_type": "stream",
     "text": [
      "/Users/gmijash/opt/anaconda3/lib/python3.9/site-packages/openpyxl/worksheet/_read_only.py:79: UserWarning: Unknown extension is not supported and will be removed\n",
      "  for idx, row in parser.parse():\n",
      "/Users/gmijash/opt/anaconda3/lib/python3.9/site-packages/openpyxl/worksheet/_read_only.py:79: UserWarning: Unknown extension is not supported and will be removed\n",
      "  for idx, row in parser.parse():\n",
      "/Users/gmijash/opt/anaconda3/lib/python3.9/site-packages/openpyxl/worksheet/_read_only.py:79: UserWarning: Unknown extension is not supported and will be removed\n",
      "  for idx, row in parser.parse():\n",
      "/Users/gmijash/opt/anaconda3/lib/python3.9/site-packages/openpyxl/worksheet/_read_only.py:79: UserWarning: Unknown extension is not supported and will be removed\n",
      "  for idx, row in parser.parse():\n",
      "/Users/gmijash/opt/anaconda3/lib/python3.9/site-packages/openpyxl/worksheet/_read_only.py:79: UserWarning: Unknown extension is not supported and will be removed\n",
      "  for idx, row in parser.parse():\n"
     ]
    },
    {
     "data": {
      "text/html": [
       "<div>\n",
       "<style scoped>\n",
       "    .dataframe tbody tr th:only-of-type {\n",
       "        vertical-align: middle;\n",
       "    }\n",
       "\n",
       "    .dataframe tbody tr th {\n",
       "        vertical-align: top;\n",
       "    }\n",
       "\n",
       "    .dataframe thead th {\n",
       "        text-align: right;\n",
       "    }\n",
       "</style>\n",
       "<table border=\"1\" class=\"dataframe\">\n",
       "  <thead>\n",
       "    <tr style=\"text-align: right;\">\n",
       "      <th></th>\n",
       "      <th>Days since launch</th>\n",
       "      <th>Last year</th>\n",
       "      <th>Progress to date</th>\n",
       "    </tr>\n",
       "  </thead>\n",
       "  <tbody>\n",
       "    <tr>\n",
       "      <th>0</th>\n",
       "      <td>0</td>\n",
       "      <td>0</td>\n",
       "      <td>0.0</td>\n",
       "    </tr>\n",
       "    <tr>\n",
       "      <th>1</th>\n",
       "      <td>1</td>\n",
       "      <td>3867</td>\n",
       "      <td>4962.0</td>\n",
       "    </tr>\n",
       "    <tr>\n",
       "      <th>2</th>\n",
       "      <td>2</td>\n",
       "      <td>5736</td>\n",
       "      <td>8163.0</td>\n",
       "    </tr>\n",
       "    <tr>\n",
       "      <th>3</th>\n",
       "      <td>3</td>\n",
       "      <td>8352</td>\n",
       "      <td>12746.0</td>\n",
       "    </tr>\n",
       "    <tr>\n",
       "      <th>4</th>\n",
       "      <td>4</td>\n",
       "      <td>10784</td>\n",
       "      <td>15736.0</td>\n",
       "    </tr>\n",
       "  </tbody>\n",
       "</table>\n",
       "</div>"
      ],
      "text/plain": [
       "   Days since launch  Last year  Progress to date\n",
       "0                  0          0               0.0\n",
       "1                  1       3867            4962.0\n",
       "2                  2       5736            8163.0\n",
       "3                  3       8352           12746.0\n",
       "4                  4      10784           15736.0"
      ]
     },
     "execution_count": 1,
     "metadata": {},
     "output_type": "execute_result"
    }
   ],
   "source": [
    "#header code to get you started\n",
    "import pandas as pd\n",
    "import plotly.express as px\n",
    "import plotly.graph_objects as go\n",
    "%matplotlib inline\n",
    "f1data = pd.read_excel(\"CHAPTER_6_VISUALS.xlsx\",sheet_name=0,header=0,usecols='C:E',skiprows=4,nrows=31)\n",
    "f2data = pd.read_excel(\"CHAPTER_6_VISUALS.xlsx\",sheet_name=1,header=0,usecols='C:G',skiprows=4,nrows=13)\n",
    "f3data = pd.read_excel(\"CHAPTER_6_VISUALS.xlsx\",sheet_name=2,header=0,usecols='C:H',skiprows=5,nrows=11)\n",
    "f4data = pd.read_excel(\"CHAPTER_6_VISUALS.xlsx\",sheet_name=3,header=0,usecols='C:I',skiprows=4,nrows=6)\n",
    "f5data = pd.read_excel(\"CHAPTER_6_VISUALS.xlsx\",sheet_name=4,header=0,usecols='C:G',skiprows=4,nrows=15)\n",
    "f1data.head()"
   ]
  },
  {
   "cell_type": "code",
   "execution_count": null,
   "metadata": {},
   "outputs": [],
   "source": []
  }
 ],
 "metadata": {
  "kernelspec": {
   "display_name": "Python 3 (ipykernel)",
   "language": "python",
   "name": "python3"
  },
  "language_info": {
   "codemirror_mode": {
    "name": "ipython",
    "version": 3
   },
   "file_extension": ".py",
   "mimetype": "text/x-python",
   "name": "python",
   "nbconvert_exporter": "python",
   "pygments_lexer": "ipython3",
   "version": "3.9.13"
  }
 },
 "nbformat": 4,
 "nbformat_minor": 4
}
