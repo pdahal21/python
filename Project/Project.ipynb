{
 "cells": [
  {
   "cell_type": "code",
   "execution_count": 1,
   "id": "747af4b7",
   "metadata": {},
   "outputs": [],
   "source": [
    "#Paru Dahal\n",
    "#DATA 434\n",
    "#Final Dashboard Project\n",
    "\n",
    "#importing libraries\n",
    "import pandas as pd\n",
    "from dash import Dash, dcc, html\n",
    "from dash.dependencies import Input, Output\n",
    "import plotly.express as px\n",
    "\n",
    "\n",
    "#Importing Data from CSV file\n",
    "df = pd.read_csv('layoffs.csv')\n",
    "# Creating a list of unique industries for dropdown options\n",
    "industry_options = df['Industry'].unique().tolist()\n"
   ]
  },
  {
   "cell_type": "code",
   "execution_count": 2,
   "id": "dbab342b",
   "metadata": {},
   "outputs": [
    {
     "name": "stdout",
     "output_type": "stream",
     "text": [
      "           Company  Location_HQ        Industry  Percentage        Date  \\\n",
      "0           Fisker  Los Angeles  Transportation        0.15  2024-02-29   \n",
      "1  Electronic Arts  SF Bay Area        Consumer        0.05  2024-02-28   \n",
      "2           Vacasa     Portland          Travel        0.05  2024-02-28   \n",
      "3   Treasury Prime  SF Bay Area         Finance        0.40  2024-02-28   \n",
      "4         Motional       Boston  Transportation        0.05  2024-02-28   \n",
      "\n",
      "                                              Source  Funds_Raised     Stage  \\\n",
      "0  https://techcrunch.com/2024/02/29/fisker-layof...        1700.0  Post-IPO   \n",
      "1  https://www.cnbc.com/2024/02/28/ea-layoffs-com...           2.0  Post-IPO   \n",
      "2  https://www.oregonlive.com/business/2024/02/po...         834.0  Post-IPO   \n",
      "3  https://www.bankingdive.com/news/treasury-prim...          71.0  Series C   \n",
      "4  https://techcrunch.com/2024/02/28/hyundai-back...           NaN   Unknown   \n",
      "\n",
      "            Date_Added        Country  Laid_Off_Count  \\\n",
      "0  2024-02-29 23:35:20  United States             NaN   \n",
      "1  2024-02-29 00:45:00  United States           670.0   \n",
      "2  2024-02-29 17:22:37  United States           320.0   \n",
      "3  2024-02-29 00:48:03  United States            40.0   \n",
      "4  2024-02-28 18:50:58  United States             NaN   \n",
      "\n",
      "  List_of_Employees_Laid_Off  \n",
      "0                    Unknown  \n",
      "1                    Unknown  \n",
      "2                    Unknown  \n",
      "3                    Unknown  \n",
      "4                    Unknown  \n"
     ]
    }
   ],
   "source": [
    "# Displaying the first 5 rows of the DataFrame\n",
    "print(df.head())"
   ]
  },
  {
   "cell_type": "code",
   "execution_count": 3,
   "id": "40907d47",
   "metadata": {},
   "outputs": [
    {
     "data": {
      "text/html": [
       "\n",
       "        <iframe\n",
       "            width=\"100%\"\n",
       "            height=\"650\"\n",
       "            src=\"http://127.0.0.1:8050/\"\n",
       "            frameborder=\"0\"\n",
       "            allowfullscreen\n",
       "            \n",
       "        ></iframe>\n",
       "        "
      ],
      "text/plain": [
       "<IPython.lib.display.IFrame at 0x13b34bb90>"
      ]
     },
     "metadata": {},
     "output_type": "display_data"
    }
   ],
   "source": [
    "# Creating a Dash application instance\n",
    "app = Dash(__name__)\n",
    "\n",
    "# Defining the layout of the dashboard\n",
    "app.layout = html.Div([\n",
    "  # Title for the dashboard\n",
    "  html.H1('Layoff Analysis Dashboard'),\n",
    "\n",
    "  # Creating a dropdown menu for selecting industry\n",
    "  dcc.Dropdown(\n",
    "    id='industry-dropdown',\n",
    "    options=[{'label': industry, 'value': industry} for industry in industry_options],\n",
    "    value='All Industries'\n",
    "  ),\n",
    "  dcc.Graph(id='layoff-by-location-chart')\n",
    "])\n",
    "\n",
    "# Callback function to update the chart based on selected industry\n",
    "@app.callback(\n",
    " \n",
    "  Output(component_id='layoff-by-location-chart', component_property='figure'),\n",
    "  Input(component_id='industry-dropdown', component_property='value')\n",
    ")\n",
    "\n",
    "def update_chart(selected_industry):\n",
    "  filtered_df = df.copy()\n",
    "\n",
    "  # Filtering data based on selected industry (if not 'All Industries')\n",
    "  if selected_industry != 'All Industries':\n",
    "    filtered_df = filtered_df[filtered_df['Industry'] == selected_industry]\n",
    "\n",
    " \n",
    "  layoff_by_location = filtered_df.groupby(['Location_HQ'])['Laid_Off_Count'].sum().reset_index()\n",
    "\n",
    "  # Creating a line chart with Plotly Express\n",
    "  fig = px.line(layoff_by_location, x='Location_HQ', y='Laid_Off_Count', title='Total Layoffs by Location')\n",
    "  return fig\n",
    "\n",
    "\n",
    "if __name__ == '__main__':\n",
    "  app.run_server(debug=True)"
   ]
  },
  {
   "cell_type": "code",
   "execution_count": 5,
   "id": "4ee589dc",
   "metadata": {},
   "outputs": [],
   "source": []
  },
  {
   "cell_type": "code",
   "execution_count": null,
   "id": "1a1cd93e",
   "metadata": {},
   "outputs": [],
   "source": []
  },
  {
   "cell_type": "code",
   "execution_count": null,
   "id": "5f8c0133",
   "metadata": {},
   "outputs": [],
   "source": []
  },
  {
   "cell_type": "code",
   "execution_count": null,
   "id": "1a16bdac",
   "metadata": {},
   "outputs": [],
   "source": []
  },
  {
   "cell_type": "code",
   "execution_count": null,
   "id": "93351195",
   "metadata": {},
   "outputs": [],
   "source": []
  }
 ],
 "metadata": {
  "kernelspec": {
   "display_name": "Python 3 (ipykernel)",
   "language": "python",
   "name": "python3"
  },
  "language_info": {
   "codemirror_mode": {
    "name": "ipython",
    "version": 3
   },
   "file_extension": ".py",
   "mimetype": "text/x-python",
   "name": "python",
   "nbconvert_exporter": "python",
   "pygments_lexer": "ipython3",
   "version": "3.11.5"
  }
 },
 "nbformat": 4,
 "nbformat_minor": 5
}
